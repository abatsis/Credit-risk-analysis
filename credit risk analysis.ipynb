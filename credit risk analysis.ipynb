{
 "cells": [
  {
   "cell_type": "markdown",
   "id": "39ad9293",
   "metadata": {},
   "source": [
    "We start by reading our data. "
   ]
  },
  {
   "cell_type": "code",
   "execution_count": 2,
   "id": "c0f37de8",
   "metadata": {},
   "outputs": [
    {
     "name": "stdout",
     "output_type": "stream",
     "text": [
      "      clientid        income        age         loan  default\n",
      "0            1  66155.925095  59.017015  8106.532131        0\n",
      "1            2  34415.153966  48.117153  6564.745018        0\n",
      "2            3  57317.170063  63.108049  8020.953296        0\n",
      "3            4  42709.534201  45.751972  6103.642260        0\n",
      "4            5  66952.688845  18.584336  8770.099235        1\n",
      "...        ...           ...        ...          ...      ...\n",
      "1995      1996  59221.044874  48.518179  1926.729397        0\n",
      "1996      1997  69516.127573  23.162104  3503.176156        0\n",
      "1997      1998  44311.449262  28.017167  5522.786693        1\n",
      "1998      1999  43756.056605  63.971796  1622.722598        0\n",
      "1999      2000  69436.579552  56.152617  7378.833599        0\n",
      "\n",
      "[2000 rows x 5 columns]\n"
     ]
    }
   ],
   "source": [
    "import pandas as pd\n",
    "\n",
    "df = pd.read_csv('/home/abatsis/Downloads/credit risk imputed.csv')\n",
    "print(df)"
   ]
  },
  {
   "cell_type": "markdown",
   "id": "e8250cd7",
   "metadata": {},
   "source": [
    "Next suffle the data,"
   ]
  },
  {
   "cell_type": "code",
   "execution_count": 3,
   "id": "fcc383bc",
   "metadata": {},
   "outputs": [
    {
     "name": "stdout",
     "output_type": "stream",
     "text": [
      "      clientid        income        age          loan  default\n",
      "0         1853  42465.669748  58.016570   7314.976322        0\n",
      "1          362  66091.905911  24.204141   8743.509701        1\n",
      "2         1744  45215.014687  27.838848    383.850167        0\n",
      "3          838  24994.778195  34.723360     51.640260        0\n",
      "4          442  60929.172351  60.058778  11146.074460        0\n",
      "...        ...           ...        ...           ...      ...\n",
      "1995      1916  48015.554743  28.241796     54.008242        0\n",
      "1996       498  58684.513012  31.732265   5415.817417        0\n",
      "1997      1591  65688.731503  24.564475   3673.870415        0\n",
      "1998       131  60119.065810  45.076969   1810.960460        0\n",
      "1999      1952  51650.271371  40.105057   3743.003437        0\n",
      "\n",
      "[2000 rows x 5 columns]\n"
     ]
    }
   ],
   "source": [
    "df = df.sample(frac=1)\n",
    "df = df.reset_index(drop=True)\n",
    "print(df)"
   ]
  },
  {
   "cell_type": "markdown",
   "id": "11183355",
   "metadata": {},
   "source": [
    "So that we can split in to test and train data frames. "
   ]
  },
  {
   "cell_type": "code",
   "execution_count": 4,
   "id": "8ca49147",
   "metadata": {},
   "outputs": [],
   "source": [
    "df_train = df.iloc[0:1400]\n",
    "df_test = df.iloc[1401:2000]\n",
    "df_test = df_test.reset_index(drop=True)\n",
    "\n",
    "x = df_train.iloc[:,1:4]\n",
    "y = df_train['default']\n",
    "x_test = df_test.iloc[:,1:4]\n",
    "y_test = df_test['default']\n",
    "\n"
   ]
  },
  {
   "cell_type": "markdown",
   "id": "59f15992",
   "metadata": {},
   "source": [
    "We import/define our metrics. "
   ]
  },
  {
   "cell_type": "code",
   "execution_count": 5,
   "id": "13763ef1",
   "metadata": {},
   "outputs": [],
   "source": [
    "\n",
    "from scipy.stats import ks_2samp\n",
    "\n",
    "def ks_statistic(a, b):\n",
    "    return ks_2samp(b[a==1], b[a!=1]).statistic\n",
    "\n",
    "\n",
    "\n"
   ]
  },
  {
   "cell_type": "markdown",
   "id": "7e2f0420",
   "metadata": {},
   "source": [
    "We build our logistic regression model. "
   ]
  },
  {
   "cell_type": "code",
   "execution_count": 6,
   "id": "147839ce",
   "metadata": {},
   "outputs": [
    {
     "data": {
      "text/plain": [
       "LogisticRegression(penalty='l1', random_state=0, solver='liblinear')"
      ]
     },
     "execution_count": 6,
     "metadata": {},
     "output_type": "execute_result"
    }
   ],
   "source": [
    "from sklearn.linear_model import LogisticRegression\n",
    "\n",
    "model = LogisticRegression(solver='liblinear', random_state=0, penalty = 'l1')\n",
    "model.fit(x,y)\n",
    "\n"
   ]
  },
  {
   "cell_type": "markdown",
   "id": "aefe5433",
   "metadata": {},
   "source": [
    "We use the model to make predictions on the test dataset."
   ]
  },
  {
   "cell_type": "code",
   "execution_count": 7,
   "id": "3234fde3",
   "metadata": {},
   "outputs": [],
   "source": [
    "results = model.predict(x_test)\n",
    "results_proba = model.predict_proba(x_test)"
   ]
  },
  {
   "cell_type": "markdown",
   "id": "86023b70",
   "metadata": {},
   "source": [
    "Bellow we see the confusion matrix of our results."
   ]
  },
  {
   "cell_type": "code",
   "execution_count": 8,
   "id": "a746f561",
   "metadata": {},
   "outputs": [
    {
     "name": "stdout",
     "output_type": "stream",
     "text": [
      "[[499  17]\n",
      " [ 18  65]]\n"
     ]
    }
   ],
   "source": [
    "from sklearn.metrics import confusion_matrix\n",
    "\n",
    "cm_metric = confusion_matrix(y_test, results)\n",
    "print(cm_metric)"
   ]
  },
  {
   "cell_type": "markdown",
   "id": "352ac797",
   "metadata": {},
   "source": [
    "Similarly we get the ks statistic."
   ]
  },
  {
   "cell_type": "code",
   "execution_count": 9,
   "id": "3fb17832",
   "metadata": {},
   "outputs": [
    {
     "name": "stdout",
     "output_type": "stream",
     "text": [
      "0.7501867936863734\n"
     ]
    }
   ],
   "source": [
    "from scipy.stats import ks_2samp\n",
    "\n",
    "def ks_statistic(a, b):\n",
    "    return ks_2samp(b[a==1], b[a!=1]).statistic\n",
    "\n",
    "ks_metric = ks_statistic(df_test['default'], results)\n",
    "print(ks_metric)"
   ]
  },
  {
   "cell_type": "markdown",
   "id": "6cc79270",
   "metadata": {},
   "source": [
    "Finally we plot the roc curve. "
   ]
  },
  {
   "cell_type": "code",
   "execution_count": 10,
   "id": "8fa6aebc",
   "metadata": {},
   "outputs": [
    {
     "data": {
      "image/png": "[encoded data removed]",
      "text/plain": [
       "<Figure size 432x288 with 1 Axes>"
      ]
     },
     "metadata": {
      "needs_background": "light"
     },
     "output_type": "display_data"
    }
   ],
   "source": [
    "import scikitplot as skplt\n",
    "import matplotlib.pyplot as plt\n",
    "\n",
    "results_proba = model.predict_proba(x_test)\n",
    "skplt.metrics.plot_roc(y_test, results_proba)\n",
    "plt.show()"
   ]
  },
  {
   "cell_type": "code",
   "execution_count": 11,
   "id": "f58cf71d",
   "metadata": {},
   "outputs": [
    {
     "name": "stdout",
     "output_type": "stream",
     "text": [
      "0.9358830671523303\n"
     ]
    }
   ],
   "source": [
    "from sklearn.ensemble import RandomForestClassifier\n",
    "model = RandomForestClassifier()\n",
    "model.fit(x,y)\n",
    "results = model.predict(x_test)\n",
    "ks_metric = ks_statistic(y_test, results)\n",
    "print(ks_metric)"
   ]
  },
  {
   "cell_type": "markdown",
   "id": "b081b5e5",
   "metadata": {},
   "source": [
    "Below we build our random forest model while at the same time we tune the number of features hyperparameter. Then we check the same metrics we used for the logistic refression."
   ]
  },
  {
   "cell_type": "code",
   "execution_count": 14,
   "id": "d30f96ca",
   "metadata": {},
   "outputs": [],
   "source": [
    "scores = []\n",
    "models = []\n",
    "for i in range(3):\n",
    "    model = RandomForestClassifier(n_estimators=1000, max_features=i+1)\n",
    "    model.fit(x,y)\n",
    "    models.append(model)\n",
    "    results = model.predict(x_test)\n",
    "    ks_metric = ks_statistic(y_test, results)\n",
    "    scores.append(ks_metric)\n",
    "\n",
    "max_sc = max(scores)\n",
    "optimal_model = scores.index(max_sc)\n",
    "fmodel = models[optimal_model]"
   ]
  },
  {
   "cell_type": "markdown",
   "id": "da910f50",
   "metadata": {},
   "source": [
    "Confusion matrix:"
   ]
  },
  {
   "cell_type": "code",
   "execution_count": 16,
   "id": "7b2cddbf",
   "metadata": {},
   "outputs": [
    {
     "name": "stdout",
     "output_type": "stream",
     "text": [
      "[[513   3]\n",
      " [  2  81]]\n"
     ]
    }
   ],
   "source": [
    "fresults = fmodel.predict(x_test)\n",
    "fcm_metric = confusion_matrix(y_test, fresults)\n",
    "print(fcm_metric)"
   ]
  },
  {
   "cell_type": "markdown",
   "id": "8505442f",
   "metadata": {},
   "source": [
    "Ks stastisric:"
   ]
  },
  {
   "cell_type": "code",
   "execution_count": 17,
   "id": "edc222ac",
   "metadata": {},
   "outputs": [
    {
     "name": "stdout",
     "output_type": "stream",
     "text": [
      "0.9700896609694593\n"
     ]
    }
   ],
   "source": [
    "fks_metric = ks_statistic(df_test['default'], fresults)\n",
    "print(fks_metric)"
   ]
  },
  {
   "cell_type": "markdown",
   "id": "072e6731",
   "metadata": {},
   "source": [
    "Roc curve:"
   ]
  },
  {
   "cell_type": "code",
   "execution_count": 18,
   "id": "6754580e",
   "metadata": {},
   "outputs": [
    {
     "data": {
      "image/png": "[encoded data removed]",
      "text/plain": [
       "<Figure size 432x288 with 1 Axes>"
      ]
     },
     "metadata": {
      "needs_background": "light"
     },
     "output_type": "display_data"
    }
   ],
   "source": [
    "fresults_proba = fmodel.predict_proba(x_test)\n",
    "skplt.metrics.plot_roc(y_test, fresults_proba)\n",
    "plt.show()"
   ]
  },
  {
   "cell_type": "markdown",
   "id": "df23c360",
   "metadata": {},
   "source": [
    "We can clearly see that the random forest model perfoms better than the logistic regression model. "
   ]
  }
 ],
 "metadata": {
  "kernelspec": {
   "display_name": "Python 3 (ipykernel)",
   "language": "python",
   "name": "python3"
  },
  "language_info": {
   "codemirror_mode": {
    "name": "ipython",
    "version": 3
   },
   "file_extension": ".py",
   "mimetype": "text/x-python",
   "name": "python",
   "nbconvert_exporter": "python",
   "pygments_lexer": "ipython3",
   "version": "3.8.10"
  }
 },
 "nbformat": 4,
 "nbformat_minor": 5
}
